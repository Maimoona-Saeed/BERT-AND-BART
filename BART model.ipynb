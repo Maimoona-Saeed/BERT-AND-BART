{
  "cells": [
    {
      "cell_type": "markdown",
      "id": "05d5163e",
      "metadata": {
        "id": "05d5163e"
      },
      "source": [
        "# Exploratory Data Analysis and Preprocessing"
      ]
    },
    {
      "cell_type": "markdown",
      "id": "c3386cb6",
      "metadata": {
        "id": "c3386cb6"
      },
      "source": [
        "We will use the SMILE Twitter dataset.\n",
        "\n",
        "_Wang, Bo; Tsakalidis, Adam; Liakata, Maria; Zubiaga, Arkaitz; Procter, Rob; Jensen, Eric (2016): SMILE Twitter Emotion dataset. figshare. Dataset. https://doi.org/10.6084/m9.figshare.3187909.v2_"
      ]
    },
    {
      "cell_type": "code",
      "execution_count": null,
      "id": "4b191d9e",
      "metadata": {
        "id": "4b191d9e"
      },
      "outputs": [],
      "source": [
        "import torch # Imports the PyTorch library which is a popular deep learning framework used for building and training neural networks.\n",
        "import pandas as pd\n",
        "from tqdm.notebook import tqdm\n",
        "pd.set_option('display.max_rows', None)"
      ]
    },
    {
      "cell_type": "code",
      "execution_count": null,
      "id": "fccf97c4",
      "metadata": {
        "id": "fccf97c4"
      },
      "outputs": [],
      "source": [
        "df = pd.read_csv('smileannotationsfinal.csv', names=['id', 'text', 'category'])\n",
        "df.set_index('id', inplace=True)"
      ]
    },
    {
      "cell_type": "code",
      "execution_count": null,
      "id": "94f9a327",
      "metadata": {
        "id": "94f9a327"
      },
      "outputs": [],
      "source": [
        "df.head()"
      ]
    },
    {
      "cell_type": "code",
      "execution_count": null,
      "id": "723219c7",
      "metadata": {
        "id": "723219c7"
      },
      "outputs": [],
      "source": [
        "df.category.value_counts()"
      ]
    },
    {
      "cell_type": "code",
      "execution_count": null,
      "id": "0d101baa",
      "metadata": {
        "id": "0d101baa"
      },
      "outputs": [],
      "source": [
        "df = df[~df.category.str.contains('\\|')]"
      ]
    },
    {
      "cell_type": "code",
      "execution_count": null,
      "id": "2ac66407",
      "metadata": {
        "id": "2ac66407"
      },
      "outputs": [],
      "source": [
        "df = df[df.category != 'nocode']"
      ]
    },
    {
      "cell_type": "code",
      "execution_count": null,
      "id": "05ac9f1c",
      "metadata": {
        "id": "05ac9f1c"
      },
      "outputs": [],
      "source": [
        "df.category.value_counts()"
      ]
    },
    {
      "cell_type": "code",
      "execution_count": null,
      "id": "07242d46",
      "metadata": {
        "id": "07242d46"
      },
      "outputs": [],
      "source": [
        "possible_labels = df.category.unique()"
      ]
    },
    {
      "cell_type": "code",
      "execution_count": null,
      "id": "5f73523f",
      "metadata": {
        "id": "5f73523f"
      },
      "outputs": [],
      "source": [
        "label_dict = {}\n",
        "for index, possible_label in enumerate(possible_labels):\n",
        "    label_dict[possible_label] = index"
      ]
    },
    {
      "cell_type": "code",
      "execution_count": null,
      "id": "cb06ad44",
      "metadata": {
        "id": "cb06ad44"
      },
      "outputs": [],
      "source": [
        "label_dict"
      ]
    },
    {
      "cell_type": "code",
      "execution_count": null,
      "id": "572e2863",
      "metadata": {
        "id": "572e2863"
      },
      "outputs": [],
      "source": [
        "df['label'] = df.category.replace(label_dict)"
      ]
    },
    {
      "cell_type": "code",
      "execution_count": null,
      "id": "b0fd4f35",
      "metadata": {
        "id": "b0fd4f35"
      },
      "outputs": [],
      "source": [
        "df.head()"
      ]
    },
    {
      "cell_type": "markdown",
      "id": "21623ff0",
      "metadata": {
        "id": "21623ff0"
      },
      "source": [
        "# Training/Validation Split"
      ]
    },
    {
      "cell_type": "code",
      "execution_count": null,
      "id": "6d5c13a9",
      "metadata": {
        "id": "6d5c13a9"
      },
      "outputs": [],
      "source": [
        "from sklearn.model_selection import train_test_split"
      ]
    },
    {
      "cell_type": "code",
      "execution_count": null,
      "id": "7e1f3d47",
      "metadata": {
        "id": "7e1f3d47"
      },
      "outputs": [],
      "source": [
        "X_train, X_val, y_train, y_val = train_test_split(df.index.values,\n",
        "                                                  df.label.values,\n",
        "                                                  test_size=0.15,\n",
        "                                                  random_state=17,\n",
        "                                                  stratify=df.label.values)"
      ]
    },
    {
      "cell_type": "code",
      "execution_count": null,
      "id": "24a4d073",
      "metadata": {
        "id": "24a4d073"
      },
      "outputs": [],
      "source": [
        "df['data_type'] = ['not_set']*df.shape[0]"
      ]
    },
    {
      "cell_type": "code",
      "execution_count": null,
      "id": "71c6e70e-cc57-4af1-95ad-bbcdbe531ddf",
      "metadata": {
        "id": "71c6e70e-cc57-4af1-95ad-bbcdbe531ddf"
      },
      "outputs": [],
      "source": [
        "df"
      ]
    },
    {
      "cell_type": "code",
      "execution_count": null,
      "id": "61a058ff",
      "metadata": {
        "id": "61a058ff"
      },
      "outputs": [],
      "source": [
        "df.loc[X_train, 'data_type'] = 'train'\n",
        "df.loc[X_val, 'data_type'] = 'val'"
      ]
    },
    {
      "cell_type": "code",
      "execution_count": null,
      "id": "326891ac",
      "metadata": {
        "id": "326891ac"
      },
      "outputs": [],
      "source": [
        "df.groupby(['category', 'label', 'data_type']).count()"
      ]
    },
    {
      "cell_type": "markdown",
      "id": "c5dc3d3d",
      "metadata": {
        "id": "c5dc3d3d"
      },
      "source": [
        "# Loading Tokenizer and Encoding our Data"
      ]
    },
    {
      "cell_type": "code",
      "execution_count": null,
      "id": "da8fdb95",
      "metadata": {
        "id": "da8fdb95"
      },
      "outputs": [],
      "source": [
        "from transformers import BartTokenizer\n",
        "from torch.utils.data import TensorDataset"
      ]
    },
    {
      "cell_type": "code",
      "execution_count": null,
      "id": "a7d78de2",
      "metadata": {
        "id": "a7d78de2"
      },
      "outputs": [],
      "source": [
        "tokenizer = BartTokenizer.from_pretrained('facebook/bart-base', do_lower_case=True)"
      ]
    },
    {
      "cell_type": "code",
      "execution_count": null,
      "id": "db25e3b2",
      "metadata": {
        "id": "db25e3b2"
      },
      "outputs": [],
      "source": [
        "encoded_data_train = tokenizer.batch_encode_plus(\n",
        "    df[df.data_type=='train'].text.values,\n",
        "    add_special_tokens=True,\n",
        "    return_attention_mask=True,\n",
        "    pad_to_max_length=True,\n",
        "    max_length=256,\n",
        "    return_tensors='pt'\n",
        ")\n",
        "\n",
        "encoded_data_val = tokenizer.batch_encode_plus(\n",
        "    df[df.data_type=='val'].text.values,\n",
        "    add_special_tokens=True,\n",
        "    return_attention_mask=True,\n",
        "    pad_to_max_length=True,\n",
        "    max_length=256,\n",
        "    return_tensors='pt'\n",
        ")\n",
        "\n",
        "\n",
        "input_ids_train = encoded_data_train['input_ids']\n",
        "attention_masks_train = encoded_data_train['attention_mask']\n",
        "labels_train = torch.tensor(df[df.data_type=='train'].label.values)\n",
        "\n",
        "input_ids_val = encoded_data_val['input_ids']\n",
        "attention_masks_val = encoded_data_val['attention_mask']\n",
        "labels_val = torch.tensor(df[df.data_type=='val'].label.values)"
      ]
    },
    {
      "cell_type": "code",
      "execution_count": null,
      "id": "822af436",
      "metadata": {
        "id": "822af436"
      },
      "outputs": [],
      "source": [
        "encoded_data_train"
      ]
    },
    {
      "cell_type": "code",
      "execution_count": null,
      "id": "d3119c70",
      "metadata": {
        "id": "d3119c70"
      },
      "outputs": [],
      "source": [
        "dataset_train = TensorDataset(input_ids_train, attention_masks_train, labels_train)\n",
        "dataset_val = TensorDataset(input_ids_val, attention_masks_val, labels_val)"
      ]
    },
    {
      "cell_type": "code",
      "execution_count": null,
      "id": "2a3df2ba",
      "metadata": {
        "id": "2a3df2ba"
      },
      "outputs": [],
      "source": [
        "len(dataset_train)"
      ]
    },
    {
      "cell_type": "code",
      "execution_count": null,
      "id": "a7a8fd0c",
      "metadata": {
        "id": "a7a8fd0c"
      },
      "outputs": [],
      "source": [
        "len(dataset_val)"
      ]
    },
    {
      "cell_type": "code",
      "execution_count": null,
      "id": "4de45d92",
      "metadata": {
        "id": "4de45d92"
      },
      "outputs": [],
      "source": [
        "from transformers import BartForSequenceClassification"
      ]
    },
    {
      "cell_type": "code",
      "execution_count": null,
      "id": "a79ea0e1",
      "metadata": {
        "id": "a79ea0e1"
      },
      "outputs": [],
      "source": [
        "model = BartForSequenceClassification.from_pretrained(\"facebook/bart-base\",\n",
        "                                                       num_labels=len(label_dict),\n",
        "                                                       output_attentions=False,\n",
        "                                                       output_hidden_states=False)"
      ]
    },
    {
      "cell_type": "markdown",
      "id": "3bca77c9-7093-44bc-8442-eb47c266649e",
      "metadata": {
        "id": "3bca77c9-7093-44bc-8442-eb47c266649e"
      },
      "source": [
        "# Creating Data Loaders"
      ]
    },
    {
      "cell_type": "code",
      "execution_count": null,
      "id": "4232e119",
      "metadata": {
        "id": "4232e119"
      },
      "outputs": [],
      "source": [
        "from torch.utils.data import DataLoader, RandomSampler, SequentialSampler"
      ]
    },
    {
      "cell_type": "code",
      "execution_count": null,
      "id": "534f7826",
      "metadata": {
        "id": "534f7826"
      },
      "outputs": [],
      "source": [
        "batch_size = 32\n",
        "\n",
        "dataloader_train = DataLoader(dataset_train,\n",
        "                              sampler=RandomSampler(dataset_train),\n",
        "                              batch_size=batch_size)\n",
        "\n",
        "dataloader_validation = DataLoader(dataset_val,\n",
        "                                   sampler=SequentialSampler(dataset_val),\n",
        "                                   batch_size=batch_size)"
      ]
    },
    {
      "cell_type": "markdown",
      "id": "74ca870b-8920-4b73-8141-cbf721cf9f0b",
      "metadata": {
        "id": "74ca870b-8920-4b73-8141-cbf721cf9f0b"
      },
      "source": [
        "# Setting Up Optimiser and Scheduler"
      ]
    },
    {
      "cell_type": "code",
      "execution_count": null,
      "id": "f732a28d",
      "metadata": {
        "id": "f732a28d"
      },
      "outputs": [],
      "source": [
        "from torch.optim import AdamW\n",
        "from transformers import get_linear_schedule_with_warmup"
      ]
    },
    {
      "cell_type": "code",
      "execution_count": null,
      "id": "b1552d29",
      "metadata": {
        "id": "b1552d29"
      },
      "outputs": [],
      "source": [
        "optimizer = AdamW(model.parameters(),\n",
        "                  lr=1e-5,\n",
        "                  eps=1e-8)"
      ]
    },
    {
      "cell_type": "code",
      "execution_count": null,
      "id": "3d1fe739",
      "metadata": {
        "id": "3d1fe739"
      },
      "outputs": [],
      "source": [
        "epochs = 3\n",
        "scheduler = get_linear_schedule_with_warmup(optimizer,\n",
        "                                            num_warmup_steps=0,\n",
        "                                            num_training_steps=len(dataloader_train)*epochs)"
      ]
    },
    {
      "cell_type": "markdown",
      "id": "d5c8165c-8233-4649-b8be-02be217c7d21",
      "metadata": {
        "id": "d5c8165c-8233-4649-b8be-02be217c7d21"
      },
      "source": [
        "# Defining our Performance Metrics"
      ]
    },
    {
      "cell_type": "code",
      "execution_count": null,
      "id": "d5bf8e32",
      "metadata": {
        "id": "d5bf8e32"
      },
      "outputs": [],
      "source": [
        "import numpy as np\n",
        "from sklearn.metrics import f1_score"
      ]
    },
    {
      "cell_type": "code",
      "execution_count": null,
      "id": "94fc5efa",
      "metadata": {
        "id": "94fc5efa"
      },
      "outputs": [],
      "source": [
        "def f1_score_func(preds, labels):\n",
        "    preds_flat = np.argmax(preds, axis=1).flatten()\n",
        "    labels_flat = labels.flatten()\n",
        "    return f1_score(labels_flat, preds_flat, average='weighted')"
      ]
    },
    {
      "cell_type": "code",
      "execution_count": null,
      "id": "c8df2a6c",
      "metadata": {
        "id": "c8df2a6c"
      },
      "outputs": [],
      "source": [
        "def accuracy_per_class(preds, labels):\n",
        "    label_dict_inverse = {v: k for k, v in label_dict.items()}\n",
        "\n",
        "    preds_flat = np.argmax(preds, axis=1).flatten()\n",
        "    labels_flat = labels.flatten()\n",
        "\n",
        "    for label in np.unique(labels_flat):\n",
        "        y_preds = preds_flat[labels_flat==label]\n",
        "        y_true = labels_flat[labels_flat==label]\n",
        "        print(f'Class: {label_dict_inverse[label]}')\n",
        "        print(f'Accuracy: {len(y_preds[y_preds==label])}/{len(y_true)}\\n')"
      ]
    },
    {
      "cell_type": "markdown",
      "id": "a615e3d8-8ce5-488f-af54-d2f3839d2ae6",
      "metadata": {
        "id": "a615e3d8-8ce5-488f-af54-d2f3839d2ae6"
      },
      "source": [
        "# Creating our Training Loop"
      ]
    },
    {
      "cell_type": "code",
      "execution_count": null,
      "id": "a27ff345",
      "metadata": {
        "id": "a27ff345"
      },
      "outputs": [],
      "source": [
        "import random\n",
        "\n",
        "seed_val = 17\n",
        "random.seed(seed_val)\n",
        "np.random.seed(seed_val)\n",
        "torch.manual_seed(seed_val)\n",
        "torch.cuda.manual_seed_all(seed_val)"
      ]
    },
    {
      "cell_type": "code",
      "execution_count": null,
      "id": "3332b11d",
      "metadata": {
        "id": "3332b11d"
      },
      "outputs": [],
      "source": [
        "device = torch.device('cuda' if torch.cuda.is_available() else 'cpu')\n",
        "model.to(device)\n",
        "\n",
        "print(device)"
      ]
    },
    {
      "cell_type": "code",
      "execution_count": null,
      "id": "2a4af67b-c05f-47c1-b4f8-7f171ff4a989",
      "metadata": {
        "id": "2a4af67b-c05f-47c1-b4f8-7f171ff4a989"
      },
      "outputs": [],
      "source": [
        "def evaluate(dataloader_val):\n",
        "\n",
        "    model.eval()\n",
        "\n",
        "    loss_val_total = 0\n",
        "    predictions, true_vals = [], []\n",
        "\n",
        "    for batch in dataloader_val:\n",
        "\n",
        "        batch = tuple(b.to(device) for b in batch)\n",
        "\n",
        "        inputs = {'input_ids':      batch[0],\n",
        "                  'attention_mask': batch[1],\n",
        "                  'labels':         batch[2],\n",
        "                 }\n",
        "\n",
        "        with torch.no_grad():\n",
        "            outputs = model(**inputs)\n",
        "\n",
        "        loss = outputs[0]\n",
        "        logits = outputs[1]\n",
        "        loss_val_total += loss.item()\n",
        "\n",
        "        logits = logits.detach().cpu().numpy()\n",
        "        label_ids = inputs['labels'].cpu().numpy()\n",
        "        predictions.append(logits)\n",
        "        true_vals.append(label_ids)\n",
        "\n",
        "    loss_val_avg = loss_val_total/len(dataloader_val)\n",
        "\n",
        "    predictions = np.concatenate(predictions, axis=0)\n",
        "    true_vals = np.concatenate(true_vals, axis=0)\n",
        "\n",
        "    return loss_val_avg, predictions, true_vals"
      ]
    },
    {
      "cell_type": "code",
      "execution_count": null,
      "id": "7fe85ecb-7b94-4bb0-a1fd-13606ea2efe8",
      "metadata": {
        "id": "7fe85ecb-7b94-4bb0-a1fd-13606ea2efe8"
      },
      "outputs": [],
      "source": [
        "for epoch in tqdm(range(1, epochs+1)):\n",
        "\n",
        "    model.train()\n",
        "\n",
        "    loss_train_total = 0\n",
        "\n",
        "    progress_bar = tqdm(dataloader_train, desc='Epoch {:1d}'.format(epoch), leave=False, disable=False)\n",
        "    for batch in progress_bar:\n",
        "\n",
        "        model.zero_grad()\n",
        "\n",
        "        batch = tuple(b.to(device) for b in batch)\n",
        "\n",
        "        inputs = {'input_ids':      batch[0],\n",
        "                  'attention_mask': batch[1],\n",
        "                  'labels':         batch[2],\n",
        "                 }\n",
        "\n",
        "        outputs = model(**inputs)\n",
        "\n",
        "        loss = outputs[0]\n",
        "        loss_train_total += loss.item()\n",
        "        loss.backward()\n",
        "\n",
        "        torch.nn.utils.clip_grad_norm_(model.parameters(), 1.0)\n",
        "\n",
        "        optimizer.step()\n",
        "        scheduler.step()\n",
        "\n",
        "        progress_bar.set_postfix({'training_loss': '{:.3f}'.format(loss.item()/len(batch))})\n",
        "\n",
        "\n",
        "    torch.save(model.state_dict(), f'finetuned_BART_epoch_{epoch}.model')\n",
        "\n",
        "    tqdm.write(f'\\nEpoch {epoch}')\n",
        "\n",
        "    loss_train_avg = loss_train_total/len(dataloader_train)\n",
        "    tqdm.write(f'Training loss: {loss_train_avg}')\n",
        "\n",
        "    val_loss, predictions, true_vals = evaluate(dataloader_validation)\n",
        "    val_f1 = f1_score_func(predictions, true_vals)\n",
        "    tqdm.write(f'Validation loss: {val_loss}')\n",
        "    tqdm.write(f'F1 Score (Weighted): {val_f1}')"
      ]
    },
    {
      "cell_type": "code",
      "execution_count": null,
      "id": "8089c147-03fc-44bf-b9fb-9a2726678253",
      "metadata": {
        "id": "8089c147-03fc-44bf-b9fb-9a2726678253"
      },
      "outputs": [],
      "source": [
        "model = BartForSequenceClassification.from_pretrained(\"facebook/bart-base\",\n",
        "                                                      num_labels=len(label_dict),\n",
        "                                                      output_attentions=False,\n",
        "                                                      output_hidden_states=False)\n",
        "\n",
        "model.to(device)"
      ]
    },
    {
      "cell_type": "code",
      "execution_count": null,
      "id": "83ac8279-e488-4406-aad9-b6022d46a0b4",
      "metadata": {
        "id": "83ac8279-e488-4406-aad9-b6022d46a0b4"
      },
      "outputs": [],
      "source": [
        "_, predictions, true_vals = evaluate(dataloader_validation)"
      ]
    },
    {
      "cell_type": "code",
      "execution_count": null,
      "id": "3823a18a-587d-408b-88bb-57b7f96e04a8",
      "metadata": {
        "id": "3823a18a-587d-408b-88bb-57b7f96e04a8"
      },
      "outputs": [],
      "source": [
        "accuracy_per_class(predictions, true_vals)"
      ]
    },
    {
      "cell_type": "markdown",
      "source": [
        "**This line calls the accuracy_per_class function to measure how accurately the model predicted each class.\n",
        "It compares the model's predictions (predictions) with the actual labels (true_vals) and prints the accuracy for each class individually.**"
      ],
      "metadata": {
        "id": "Jky0sYdfYXOM"
      },
      "id": "Jky0sYdfYXOM"
    }
  ],
  "metadata": {
    "kernelspec": {
      "display_name": "Python 3",
      "name": "python3"
    },
    "language_info": {
      "codemirror_mode": {
        "name": "ipython",
        "version": 3
      },
      "file_extension": ".py",
      "mimetype": "text/x-python",
      "name": "python",
      "nbconvert_exporter": "python",
      "pygments_lexer": "ipython3",
      "version": "3.12.4"
    },
    "colab": {
      "provenance": [],
      "gpuType": "T4"
    },
    "accelerator": "GPU"
  },
  "nbformat": 4,
  "nbformat_minor": 5
}